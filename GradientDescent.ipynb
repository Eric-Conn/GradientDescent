{
 "cells": [
  {
   "cell_type": "code",
   "execution_count": 14,
   "metadata": {
    "execution": {
     "iopub.execute_input": "2024-04-05T19:51:34.156251Z",
     "iopub.status.busy": "2024-04-05T19:51:34.155798Z",
     "iopub.status.idle": "2024-04-05T19:51:34.166889Z",
     "shell.execute_reply": "2024-04-05T19:51:34.165466Z",
     "shell.execute_reply.started": "2024-04-05T19:51:34.156222Z"
    }
   },
   "outputs": [],
   "source": [
    "import numpy as np\n",
    "import matplotlib.pyplot as plt"
   ]
  },
  {
   "cell_type": "markdown",
   "metadata": {},
   "source": [
    "# Gradient Descent Project\n",
    "For this notebook, we will be implemeting regular gradient descent and heavy ball gradient descent."
   ]
  },
  {
   "cell_type": "markdown",
   "metadata": {},
   "source": [
    "### Basics of gradient descent.\n",
    "\n",
    "Given a function $F :\\Bbb{R}^n \\to \\Bbb{R}$, where $F$ is differentiable at a point a, we can consider the vector \n",
    "$b = a - \\gamma \\nabla{F}(a)$ where $\\gamma \\in \\Bbb{R}$.\n",
    "\n",
    "The idea is that for a small enough $\\gamma$, we should have $F(b) \\leq F(a) $. This beacause $-\\nabla{F}(a)$ points in the direction of steepest\n",
    "descent."
   ]
  },
  {
   "cell_type": "markdown",
   "metadata": {},
   "source": [
    "Given a specified function family, we can hard code in a formula for the gradient at a point a,\n",
    "while if the functional form of $F$ is unknown, we can compute the approximate gradient numerically."
   ]
  },
  {
   "cell_type": "markdown",
   "metadata": {},
   "source": [
    "### Average Rate of change\n",
    "\n",
    "To start, we can look at the average rate of change of a function $f:\\Bbb{R} \\to \\Bbb{R}$ over an interval of length $\\delta > 0$."
   ]
  },
  {
   "cell_type": "code",
   "execution_count": 15,
   "metadata": {
    "execution": {
     "iopub.execute_input": "2024-04-05T19:51:34.169941Z",
     "iopub.status.busy": "2024-04-05T19:51:34.169134Z",
     "iopub.status.idle": "2024-04-05T19:51:34.182606Z",
     "shell.execute_reply": "2024-04-05T19:51:34.180964Z",
     "shell.execute_reply.started": "2024-04-05T19:51:34.169897Z"
    }
   },
   "outputs": [],
   "source": [
    "def average_rate_of_change(F, x, delta):\n",
    "    if delta <= 0:\n",
    "        print('delta must be positive')\n",
    "        return None\n",
    "    average_roc = (F(x + delta) - F(x))/ delta\n",
    "\n",
    "    return average_roc\n",
    "\n",
    "    \n",
    "    \n",
    "    \n",
    "    \n",
    "    \n",
    "    \n",
    "    "
   ]
  },
  {
   "cell_type": "code",
   "execution_count": 16,
   "metadata": {
    "execution": {
     "iopub.execute_input": "2024-04-05T19:51:34.184871Z",
     "iopub.status.busy": "2024-04-05T19:51:34.184126Z",
     "iopub.status.idle": "2024-04-05T19:51:34.402364Z",
     "shell.execute_reply": "2024-04-05T19:51:34.401107Z",
     "shell.execute_reply.started": "2024-04-05T19:51:34.184837Z"
    }
   },
   "outputs": [
    {
     "name": "stdout",
     "output_type": "stream",
     "text": [
      "average rate of change over [0, 1/101] :  1e-06\n"
     ]
    },
    {
     "data": {
      "image/png": "[encoded data removed]",
      "text/plain": [
       "<Figure size 640x480 with 1 Axes>"
      ]
     },
     "metadata": {},
     "output_type": "display_data"
    }
   ],
   "source": [
    "#Plotting average rate of change of x^3 as over the interval [0, delta_i] where delta_i = 1/(i + 1).\n",
    "A = []\n",
    "for i in range(100):\n",
    "    v = average_rate_of_change(lambda x : x**3,0,0.1/(i+1))\n",
    "    if i % 5 == 1:\n",
    "        A.append(v)\n",
    "print('average rate of change over [0, 1/101] : ', v)\n",
    "\n",
    "# Plotting average rates of change against there log deltas:\n",
    "plt.scatter(np.arange(len(A)) ,np.log(A))\n",
    "plt.show()\n"
   ]
  },
  {
   "cell_type": "code",
   "execution_count": 17,
   "metadata": {
    "execution": {
     "iopub.execute_input": "2024-04-05T19:51:34.407270Z",
     "iopub.status.busy": "2024-04-05T19:51:34.406808Z",
     "iopub.status.idle": "2024-04-05T19:51:34.630610Z",
     "shell.execute_reply": "2024-04-05T19:51:34.629363Z",
     "shell.execute_reply.started": "2024-04-05T19:51:34.407229Z"
    }
   },
   "outputs": [
    {
     "data": {
      "text/plain": [
       "<matplotlib.collections.PathCollection at 0x7f8259e41250>"
      ]
     },
     "execution_count": 17,
     "metadata": {},
     "output_type": "execute_result"
    },
    {
     "data": {
      "image/png": "[encoded data removed]",
      "text/plain": [
       "<Figure size 640x480 with 1 Axes>"
      ]
     },
     "metadata": {},
     "output_type": "display_data"
    }
   ],
   "source": [
    "#Plotting average rates of change v.s. their deltas:\n",
    "plt.scatter(np.arange(len(A)) ,A)"
   ]
  },
  {
   "cell_type": "raw",
   "metadata": {
    "execution": {
     "iopub.execute_input": "2024-04-05T19:23:23.961436Z",
     "iopub.status.busy": "2024-04-05T19:23:23.960953Z",
     "iopub.status.idle": "2024-04-05T19:23:24.237307Z",
     "shell.execute_reply": "2024-04-05T19:23:24.236513Z",
     "shell.execute_reply.started": "2024-04-05T19:23:23.961408Z"
    }
   },
   "source": [
    "plt.scatter(np.arange(len(A)) , np.log(A))"
   ]
  },
  {
   "cell_type": "markdown",
   "metadata": {},
   "source": [
    "We can use our average rate of change for a small enough delta as an approximation of the derivative at x."
   ]
  },
  {
   "cell_type": "markdown",
   "metadata": {},
   "source": [
    "# Computing Gradient\n",
    "Given a function $F: \\Bbb{R}^n \\to \\Bbb{R}$, we can write a function to compute a numeric gradient at a point $a \\in R^n$."
   ]
  },
  {
   "cell_type": "code",
   "execution_count": 18,
   "metadata": {
    "execution": {
     "iopub.execute_input": "2024-04-05T19:51:34.632699Z",
     "iopub.status.busy": "2024-04-05T19:51:34.632226Z",
     "iopub.status.idle": "2024-04-05T19:51:34.640135Z",
     "shell.execute_reply": "2024-04-05T19:51:34.638514Z",
     "shell.execute_reply.started": "2024-04-05T19:51:34.632661Z"
    }
   },
   "outputs": [],
   "source": [
    "def approx_gradient(F,a, delta):\n",
    "    \n",
    "    partials = []\n",
    "    \n",
    "    n = len(a)\n",
    "    \n",
    "    a = np.array(a)\n",
    "    \n",
    "    w = np.zeros(n)\n",
    "    for i in range(n):\n",
    "        \n",
    "        w[i] = delta\n",
    "        \n",
    "        partials.append((F(a+w)  - F(a))/delta)\n",
    "        \n",
    "        w[i] = 0\n",
    "        \n",
    "    return np.array(partials)\n",
    "        \n",
    "        \n",
    "        \n",
    "    \n",
    "    "
   ]
  },
  {
   "cell_type": "code",
   "execution_count": 19,
   "metadata": {
    "execution": {
     "iopub.execute_input": "2024-04-05T19:51:34.641959Z",
     "iopub.status.busy": "2024-04-05T19:51:34.641639Z",
     "iopub.status.idle": "2024-04-05T19:51:34.655317Z",
     "shell.execute_reply": "2024-04-05T19:51:34.653650Z",
     "shell.execute_reply.started": "2024-04-05T19:51:34.641933Z"
    }
   },
   "outputs": [
    {
     "data": {
      "text/plain": [
       "array([2.5, 0.5])"
      ]
     },
     "execution_count": 19,
     "metadata": {},
     "output_type": "execute_result"
    }
   ],
   "source": [
    "#Example:\n",
    "# Gradient of F(x,y) = x^2 + y^2 with start point (1,0).\n",
    "\n",
    "\n",
    "approx_gradient(lambda a : a[0]**2 + a[1]**2 ,[1,0],0.5)"
   ]
  },
  {
   "cell_type": "markdown",
   "metadata": {},
   "source": [
    "# Gradient Descent Algorithm\n",
    "We can use gradient descent to find a local minimum of a function."
   ]
  },
  {
   "cell_type": "code",
   "execution_count": 20,
   "metadata": {
    "execution": {
     "iopub.execute_input": "2024-04-05T19:51:34.657153Z",
     "iopub.status.busy": "2024-04-05T19:51:34.656804Z",
     "iopub.status.idle": "2024-04-05T19:51:34.665056Z",
     "shell.execute_reply": "2024-04-05T19:51:34.663797Z",
     "shell.execute_reply.started": "2024-04-05T19:51:34.657127Z"
    }
   },
   "outputs": [],
   "source": [
    "def gradient_descent(F,a,learning_rate,tol):\n",
    "    \n",
    "    grad = approx_gradient(F,a,learning_rate)\n",
    "    count = 0\n",
    "    while np.linalg.norm(grad) > tol:\n",
    "        if count % 100 == 0:\n",
    "            print('loop call number: ',count+1,' | grad len:',np.linalg.norm(grad))\n",
    "        a = a - grad * learning_rate\n",
    "        grad = approx_gradient(F,a,learning_rate)\n",
    "        \n",
    "        count += 1\n",
    "        \n",
    "        \n",
    "    print(f'local argmin: {a} | local min: {F(a)}')\n",
    "    \n",
    "    print(f'loop calls required for convergence: {count + 1}')\n",
    "    return a\n",
    "    "
   ]
  },
  {
   "cell_type": "code",
   "execution_count": 21,
   "metadata": {
    "execution": {
     "iopub.execute_input": "2024-04-05T19:51:34.667892Z",
     "iopub.status.busy": "2024-04-05T19:51:34.666983Z",
     "iopub.status.idle": "2024-04-05T19:51:34.733614Z",
     "shell.execute_reply": "2024-04-05T19:51:34.732125Z",
     "shell.execute_reply.started": "2024-04-05T19:51:34.667860Z"
    }
   },
   "outputs": [
    {
     "name": "stdout",
     "output_type": "stream",
     "text": [
      "loop call number:  1  | grad len: 4.0010001249684555\n",
      "loop call number:  101  | grad len: 3.275085887853405\n",
      "loop call number:  201  | grad len: 2.680876590300416\n",
      "loop call number:  301  | grad len: 2.19447658428623\n",
      "loop call number:  401  | grad len: 1.7963256855628709\n",
      "loop call number:  501  | grad len: 1.470412576611009\n",
      "loop call number:  601  | grad len: 1.203630924410186\n",
      "loop call number:  701  | grad len: 0.9852523198186082\n",
      "loop call number:  801  | grad len: 0.8064948432457859\n",
      "loop call number:  901  | grad len: 0.6601699068333937\n",
      "loop call number:  1001  | grad len: 0.5403931711880636\n",
      "loop call number:  1101  | grad len: 0.4423479114148635\n",
      "loop call number:  1201  | grad len: 0.36209131640746595\n",
      "loop call number:  1301  | grad len: 0.29639593187708296\n",
      "loop call number:  1401  | grad len: 0.24261987087927153\n",
      "loop call number:  1501  | grad len: 0.1986005724595652\n",
      "loop call number:  1601  | grad len: 0.1625678360075189\n",
      "loop call number:  1701  | grad len: 0.13307263406578687\n",
      "loop call number:  1801  | grad len: 0.10892884085870361\n",
      "loop call number:  1901  | grad len: 0.08916553320012344\n",
      "loop call number:  2001  | grad len: 0.07298794559996506\n",
      "loop call number:  2101  | grad len: 0.059745509410536135\n",
      "loop call number:  2201  | grad len: 0.048905690732664944\n",
      "loop call number:  2301  | grad len: 0.04003257499411792\n",
      "loop call number:  2401  | grad len: 0.03276933699638495\n",
      "loop call number:  2501  | grad len: 0.02682389147688914\n",
      "loop call number:  2601  | grad len: 0.021957147135546286\n",
      "loop call number:  2701  | grad len: 0.017973391770817807\n",
      "loop call number:  2801  | grad len: 0.014712421871251609\n",
      "loop call number:  2901  | grad len: 0.012043100160378566\n",
      "loop call number:  3001  | grad len: 0.009858082016823776\n",
      "loop call number:  3101  | grad len: 0.0080694986968679\n",
      "loop call number:  3201  | grad len: 0.006605423763732588\n",
      "loop call number:  3301  | grad len: 0.005406980623891594\n",
      "loop call number:  3401  | grad len: 0.0044259748523111835\n",
      "loop call number:  3501  | grad len: 0.0036229560924877034\n",
      "loop call number:  3601  | grad len: 0.0029656315921541285\n",
      "loop call number:  3701  | grad len: 0.0024275675762726596\n",
      "loop call number:  3801  | grad len: 0.001987126234074743\n",
      "loop call number:  3901  | grad len: 0.001626595571939111\n",
      "loop call number:  4001  | grad len: 0.001331477139842544\n",
      "loop call number:  4101  | grad len: 0.0010899029878765982\n",
      "local argmin: [-9.98730413e-07 -4.99875281e-04] | local min: 2.498762938796908e-07\n",
      "loop calls required for convergence: 4145\n",
      "[-9.98730413e-07 -4.99875281e-04]\n"
     ]
    }
   ],
   "source": [
    "#Using our algorithm on F(x,y) = x^2 + y^2 with start point (2,0):\n",
    "print(gradient_descent(lambda a : a[0]**2 + a[1]**2 ,[2,0],0.001,0.001))"
   ]
  },
  {
   "cell_type": "code",
   "execution_count": 22,
   "metadata": {
    "execution": {
     "iopub.execute_input": "2024-04-05T19:51:34.735556Z",
     "iopub.status.busy": "2024-04-05T19:51:34.735088Z",
     "iopub.status.idle": "2024-04-05T19:51:34.804327Z",
     "shell.execute_reply": "2024-04-05T19:51:34.803294Z",
     "shell.execute_reply.started": "2024-04-05T19:51:34.735526Z"
    }
   },
   "outputs": [
    {
     "name": "stdout",
     "output_type": "stream",
     "text": [
      "loop call number:  1  | grad len: 4.472583369819846\n",
      "loop call number:  101  | grad len: 3.661108277735923\n",
      "loop call number:  201  | grad len: 2.9968617045259016\n",
      "loop call number:  301  | grad len: 2.4531315095667137\n",
      "loop call number:  401  | grad len: 2.008052021267099\n",
      "loop call number:  501  | grad len: 1.6437247266963935\n",
      "loop call number:  601  | grad len: 1.3454984973188995\n",
      "loop call number:  701  | grad len: 1.101380405663625\n",
      "loop call number:  801  | grad len: 0.9015534394106475\n",
      "loop call number:  901  | grad len: 0.7379817181543467\n",
      "loop call number:  1001  | grad len: 0.6040873369479068\n",
      "loop call number:  1101  | grad len: 0.49448584115841204\n",
      "loop call number:  1201  | grad len: 0.4047696949605065\n",
      "loop call number:  1301  | grad len: 0.33133103583867163\n",
      "loop call number:  1401  | grad len: 0.27121658730055576\n",
      "loop call number:  1501  | grad len: 0.22200889524486192\n",
      "loop call number:  1601  | grad len: 0.1817291119926168\n",
      "loop call number:  1701  | grad len: 0.14875741852301247\n",
      "loop call number:  1801  | grad len: 0.12176788475436329\n",
      "loop call number:  1901  | grad len: 0.09967514833696299\n",
      "loop call number:  2001  | grad len: 0.08159076768098979\n",
      "loop call number:  2101  | grad len: 0.06678749399305196\n",
      "loop call number:  2201  | grad len: 0.05467002555050434\n",
      "loop call number:  2301  | grad len: 0.04475106812742155\n",
      "loop call number:  2401  | grad len: 0.03663173884305839\n",
      "loop call number:  2501  | grad len: 0.029985525415251933\n",
      "loop call number:  2601  | grad len: 0.024545155726078977\n",
      "loop call number:  2701  | grad len: 0.020091849693730086\n",
      "loop call number:  2801  | grad len: 0.016446521203641935\n",
      "loop call number:  2901  | grad len: 0.01346257630996309\n",
      "loop call number:  3001  | grad len: 0.011020018073049169\n",
      "loop call number:  3101  | grad len: 0.009020620981155459\n",
      "loop call number:  3201  | grad len: 0.0073839808932517365\n",
      "loop call number:  3301  | grad len: 0.006044281645386702\n",
      "loop call number:  3401  | grad len: 0.00494764831326613\n",
      "loop call number:  3501  | grad len: 0.0040499806704393775\n",
      "loop call number:  3601  | grad len: 0.0033151797365222864\n",
      "loop call number:  3701  | grad len: 0.0027136960837109442\n",
      "loop call number:  3801  | grad len: 0.00222134153223161\n",
      "loop call number:  3901  | grad len: 0.0018183164405862597\n",
      "loop call number:  4001  | grad len: 0.0014884134777728279\n",
      "loop call number:  4101  | grad len: 0.0012183658650928143\n",
      "local argmin: [-5.30268646e-05  9.99276681e-01] | local min: 5.000000526002216\n",
      "loop calls required for convergence: 4200\n",
      "[-5.30268646e-05  9.99276681e-01]\n"
     ]
    }
   ],
   "source": [
    "# Using our algorithm on f(x,y) = x^2 + (y - 1)^2 + 5 with start point (2,0).\n",
    "print(gradient_descent(lambda a : a[0]**2 + (a[1] - 1)**2 + 5 ,[2,0],0.001,0.001))"
   ]
  },
  {
   "cell_type": "markdown",
   "metadata": {},
   "source": [
    "Both of these examples are for paraboloids, which have a single global minimum , and we see the results that we expect."
   ]
  },
  {
   "cell_type": "markdown",
   "metadata": {},
   "source": [
    "# Heavy Ball Gradient Descent\n",
    "\n",
    "Now we want to create an algorithm that takes into acount the curvature of our objective function. This means that\n",
    "out step size calculation at each iteration of the algorithm will take into account how large or small our previous step was, and what its direction was. We do this by adding a term proportional to the previous step."
   ]
  },
  {
   "cell_type": "code",
   "execution_count": 23,
   "metadata": {
    "execution": {
     "iopub.execute_input": "2024-04-05T19:51:34.805948Z",
     "iopub.status.busy": "2024-04-05T19:51:34.805638Z",
     "iopub.status.idle": "2024-04-05T19:51:34.814547Z",
     "shell.execute_reply": "2024-04-05T19:51:34.813295Z",
     "shell.execute_reply.started": "2024-04-05T19:51:34.805922Z"
    }
   },
   "outputs": [],
   "source": [
    "def heavy_ball_descent(F,a,learning_rate,momentum_factor ,tol):\n",
    "    \n",
    "    \n",
    "    a = np.array(a)\n",
    "      \n",
    "    grad = approx_gradient(F,a,learning_rate)\n",
    "    count = 0\n",
    "    \n",
    "    \n",
    "    \n",
    "    \n",
    "    \n",
    "    a_prev = a\n",
    "    \n",
    "    a = a - grad * learning_rate   +  momentum_factor*(a - a_prev)\n",
    "    \n",
    "    \n",
    "    grad = approx_gradient(F,a,learning_rate)\n",
    "        \n",
    "        \n",
    "   \n",
    "\n",
    "\n",
    "\n",
    "\n",
    "\n",
    "    while np.linalg.norm(grad) > tol:\n",
    "        if count % 10 == 0:\n",
    "            print('loop call number: ',count+1,' | grad len:',np.linalg.norm(grad))\n",
    "            \n",
    "             \n",
    "                \n",
    "        \n",
    "        a = a - grad * learning_rate   +  momentum_factor*(a - a_prev)\n",
    "        grad = approx_gradient(F,a,learning_rate)\n",
    "        \n",
    "        \n",
    "        \n",
    "        \n",
    "        \n",
    "        \n",
    "        \n",
    "        \n",
    "        count += 1\n",
    "        \n",
    "        \n",
    "        \n",
    "        \n",
    "        \n",
    "        \n",
    "        \n",
    "        \n",
    "    print(f'local argmin: {a} | local min: {F(a)}')\n",
    "    \n",
    "    print(f'loop calls required for convergence: {count + 1}')\n",
    "    return a"
   ]
  },
  {
   "cell_type": "code",
   "execution_count": 24,
   "metadata": {
    "execution": {
     "iopub.execute_input": "2024-04-05T19:51:34.816782Z",
     "iopub.status.busy": "2024-04-05T19:51:34.815810Z",
     "iopub.status.idle": "2024-04-05T19:51:34.832493Z",
     "shell.execute_reply": "2024-04-05T19:51:34.831206Z",
     "shell.execute_reply.started": "2024-04-05T19:51:34.816745Z"
    }
   },
   "outputs": [
    {
     "name": "stdout",
     "output_type": "stream",
     "text": [
      "loop call number:  1  | grad len: 4.463638203082851\n",
      "loop call number:  11  | grad len: 4.3701546729175424\n",
      "loop call number:  21  | grad len: 4.268917402961235\n",
      "loop call number:  31  | grad len: 4.159283280129922\n",
      "loop call number:  41  | grad len: 4.040555850065633\n",
      "loop call number:  51  | grad len: 3.9119808928703184\n",
      "loop call number:  61  | grad len: 3.7727416319140215\n",
      "loop call number:  71  | grad len: 3.6219535452230733\n",
      "loop call number:  81  | grad len: 3.4586587465326923\n",
      "loop call number:  91  | grad len: 3.2818199002773403\n",
      "loop call number:  101  | grad len: 3.0903136318846407\n",
      "loop call number:  111  | grad len: 2.882923391507008\n",
      "loop call number:  121  | grad len: 2.658331725835681\n",
      "loop call number:  131  | grad len: 2.415111908950622\n",
      "loop call number:  141  | grad len: 2.151718878987109\n",
      "loop call number:  151  | grad len: 1.8664794230822124\n",
      "loop call number:  161  | grad len: 1.5575815482363204\n",
      "loop call number:  171  | grad len: 1.2230629705695508\n",
      "loop call number:  181  | grad len: 0.8607986498435456\n",
      "loop call number:  191  | grad len: 0.46848729007924494\n",
      "loop call number:  201  | grad len: 0.043636720495296814\n",
      "local argmin: [-8.30996376e-04  9.99665374e-01] | local min: 5.000000802529473\n",
      "loop calls required for convergence: 202\n",
      "[-8.30996376e-04  9.99665374e-01]\n"
     ]
    }
   ],
   "source": [
    "# Using our algorithm on f(x,y) = x^2 + (y - 1)^2 + 5 with start point (2,0), with a weight of 0.02 on the previous step vector.\n",
    "print(heavy_ball_descent(lambda a : a[0]**2 + (a[1] - 1)**2 + 5 ,[2,0],0.001,0.01,0.001))"
   ]
  },
  {
   "cell_type": "code",
   "execution_count": 25,
   "metadata": {
    "execution": {
     "iopub.execute_input": "2024-04-05T19:51:34.835034Z",
     "iopub.status.busy": "2024-04-05T19:51:34.834683Z",
     "iopub.status.idle": "2024-04-05T19:51:34.845156Z",
     "shell.execute_reply": "2024-04-05T19:51:34.843592Z",
     "shell.execute_reply.started": "2024-04-05T19:51:34.835007Z"
    }
   },
   "outputs": [],
   "source": [
    "def heavy_ball_descent_graph(F,a,learning_rate,momentum_factor ,tol):\n",
    "    \n",
    "    vals = []\n",
    "    \n",
    "    \n",
    "    \n",
    "    a = np.array(a)\n",
    "      \n",
    "    grad = approx_gradient(F,a,learning_rate)\n",
    "    count = 0\n",
    "    \n",
    "    vals.append(F(a))\n",
    "    \n",
    "    count = 1\n",
    "    \n",
    "    a_prev = a\n",
    "    \n",
    "    a = a - grad * learning_rate   +  momentum_factor*(a - a_prev)\n",
    "    \n",
    "    \n",
    "    grad = approx_gradient(F,a,learning_rate)\n",
    "        \n",
    "        \n",
    "\n",
    "\n",
    "\n",
    "\n",
    "\n",
    "    while np.linalg.norm(grad) > tol:\n",
    "        if count % 10 == 1:\n",
    "            print('loop call number: ',count,' | grad len:',np.linalg.norm(grad))\n",
    "            vals.append(F(a))\n",
    "            \n",
    "             \n",
    "                \n",
    "        \n",
    "        a = a - grad * learning_rate   +  momentum_factor*(a - a_prev)\n",
    "        grad = approx_gradient(F,a,learning_rate)\n",
    "        \n",
    "\n",
    "        \n",
    "        \n",
    "        \n",
    "        count += 1\n",
    "        \n",
    "        \n",
    "        \n",
    "        \n",
    "        \n",
    "        \n",
    "        \n",
    "        \n",
    "    print(f'local argmin: {a} | local min: {F(a)}')\n",
    "    \n",
    "    print(f'terms in sequence required for convergence: {count + 1}')\n",
    "    \n",
    "    \n",
    "    \n",
    "    plt.scatter(np.arange(len(vals)) , np.array(vals))\n",
    "    \n",
    "    return a"
   ]
  },
  {
   "cell_type": "code",
   "execution_count": 26,
   "metadata": {
    "execution": {
     "iopub.execute_input": "2024-04-05T19:51:34.849398Z",
     "iopub.status.busy": "2024-04-05T19:51:34.849023Z",
     "iopub.status.idle": "2024-04-05T19:51:35.047819Z",
     "shell.execute_reply": "2024-04-05T19:51:35.046699Z",
     "shell.execute_reply.started": "2024-04-05T19:51:34.849370Z"
    }
   },
   "outputs": [
    {
     "name": "stdout",
     "output_type": "stream",
     "text": [
      "loop call number:  1  | grad len: 4.463638203082851\n",
      "loop call number:  11  | grad len: 4.3701546729175424\n",
      "loop call number:  21  | grad len: 4.268917402961235\n",
      "loop call number:  31  | grad len: 4.159283280129922\n",
      "loop call number:  41  | grad len: 4.040555850065633\n",
      "loop call number:  51  | grad len: 3.9119808928703184\n",
      "loop call number:  61  | grad len: 3.7727416319140215\n",
      "loop call number:  71  | grad len: 3.6219535452230733\n",
      "loop call number:  81  | grad len: 3.4586587465326923\n",
      "loop call number:  91  | grad len: 3.2818199002773403\n",
      "loop call number:  101  | grad len: 3.0903136318846407\n",
      "loop call number:  111  | grad len: 2.882923391507008\n",
      "loop call number:  121  | grad len: 2.658331725835681\n",
      "loop call number:  131  | grad len: 2.415111908950622\n",
      "loop call number:  141  | grad len: 2.151718878987109\n",
      "loop call number:  151  | grad len: 1.8664794230822124\n",
      "loop call number:  161  | grad len: 1.5575815482363204\n",
      "loop call number:  171  | grad len: 1.2230629705695508\n",
      "loop call number:  181  | grad len: 0.8607986498435456\n",
      "loop call number:  191  | grad len: 0.46848729007924494\n",
      "loop call number:  201  | grad len: 0.043636720495296814\n",
      "local argmin: [-8.30996376e-04  9.99665374e-01] | local min: 5.000000802529473\n",
      "terms in sequence required for convergence: 203\n",
      "[-8.30996376e-04  9.99665374e-01]\n"
     ]
    },
    {
     "data": {
      "image/png": "[encoded data removed]",
      "text/plain": [
       "<Figure size 640x480 with 1 Axes>"
      ]
     },
     "metadata": {},
     "output_type": "display_data"
    }
   ],
   "source": [
    "print(heavy_ball_descent_graph(lambda a : a[0]**2 + (a[1] - 1)**2 + 5 ,[2,0],0.001,0.01,0.001))"
   ]
  },
  {
   "cell_type": "markdown",
   "metadata": {},
   "source": [
    "# Comparing Algorithms\n",
    "\n",
    "We see that at least on the function $f(x,y) = x^2 + (y - 1)^2 + 5$, with start point $(2,0)$, \n",
    "the heavy ball algorithm minimises f in 203 iterations, while the regular gradient descent algorithm takes 4200 iterations.\n"
   ]
  }
 ],
 "metadata": {
  "kaggle": {
   "accelerator": "none",
   "dataSources": [],
   "dockerImageVersionId": 30673,
   "isGpuEnabled": false,
   "isInternetEnabled": true,
   "language": "python",
   "sourceType": "notebook"
  },
  "kernelspec": {
   "display_name": "Python 3 (ipykernel)",
   "language": "python",
   "name": "python3"
  },
  "language_info": {
   "codemirror_mode": {
    "name": "ipython",
    "version": 3
   },
   "file_extension": ".py",
   "mimetype": "text/x-python",
   "name": "python",
   "nbconvert_exporter": "python",
   "pygments_lexer": "ipython3",
   "version": "3.8.13"
  }
 },
 "nbformat": 4,
 "nbformat_minor": 4
}
